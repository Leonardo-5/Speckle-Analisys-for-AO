{
 "cells": [
  {
   "cell_type": "code",
   "execution_count": null,
   "id": "e866e870",
   "metadata": {},
   "outputs": [],
   "source": [
    "%matplotlib inline\n",
    "import numpy as np\n",
    "import matplotlib.pyplot as plt\n",
    "import poppy\n",
    "import astropy.units as u\n",
    "import logging\n",
    "logging.basicConfig(level=logging.DEBUG)\n",
    "from astropy.io import fits\n",
    "from astropy.modeling import models, fitting\n",
    "import tifffile\n",
    "import numpy as np\n",
    "import matplotlib.colors as mcolors\n",
    "from astropy.stats import sigma_clip\n",
    "logging.getLogger().setLevel(logging.INFO)\n",
    "import photutils\n",
    "import time\n",
    "import datetime as dt\n",
    "\n",
    "# Colormap\n",
    "dark_yellow = [ '#003f5c', '#2f4b7c', '#665191', '#a05195', '#d45087', '#f95d6a', '#ff7c43', '#ffa600']\n",
    "\n",
    "custom_cmap = mcolors.LinearSegmentedColormap.from_list(\"DarkYellow\", dark_yellow)\n",
    "gradient = np.linspace(0, 1, 256).reshape(1, -1)"
   ]
  },
  {
   "cell_type": "code",
   "execution_count": null,
   "id": "1a11fed8",
   "metadata": {},
   "outputs": [
    {
     "name": "stdout",
     "output_type": "stream",
     "text": [
      "Diffraction limit in arcseconds and pixels:  0.19357176923076921\n",
      "Check radius in pixels:  5\n"
     ]
    }
   ],
   "source": [
    "# File containing the images\n",
    "file = (r\"C:\\Users\\buonc\\OneDrive - Alma Mater Studiorum Università di Bologna\\Documents\\Astrophysics and Cosmology\\TESI\\dati\\Algol_1kHz_1_MMStack_Pos0.ome.tif\")\n",
    "\n",
    "immagini = tifffile.imread(file) \n",
    "# Select the specific image \n",
    "#imagenumber = 901\n",
    "\n",
    "# Define a count per pixel threshold to find the speckles in the images\n",
    "speckle_threshold=7000 #1100 #7000 #9500 #8000 #9000 #6500 #9000\n",
    "\n",
    "# Plate scale arcseconds/pixels\n",
    "plate_scale = 0.0376\n",
    "\n",
    "# Diffraction limit of the telescope\n",
    "aperture = 1.82                                                     # Aperture of the telescope (in meters)\n",
    "wavelength = 700e-9                                                 # Reference wavelenght (in meters) \n",
    "\n",
    "diffraction_limit_radians = 2*1.22 * wavelength / aperture          # Diameter of the Airy disk\n",
    "diffraction_limit_arcseconds = diffraction_limit_radians * 206265\n",
    "print(\"Diffraction limit in arcseconds and pixels: \",diffraction_limit_arcseconds)\n",
    "\n",
    "#Radius used to check for speckles (in pixels)\n",
    "check_radius = int(diffraction_limit_arcseconds/plate_scale) #4 corrisponde al diametro del disco di airy in pixel\n",
    "print (\"Check radius in pixels: \", check_radius)\n",
    "\n"
   ]
  }
 ],
 "metadata": {
  "kernelspec": {
   "display_name": "donut",
   "language": "python",
   "name": "python3"
  },
  "language_info": {
   "name": "python",
   "version": "3.12.8"
  }
 },
 "nbformat": 4,
 "nbformat_minor": 5
}
